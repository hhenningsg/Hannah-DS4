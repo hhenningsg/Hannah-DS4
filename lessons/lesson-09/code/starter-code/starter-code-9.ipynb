{
 "cells": [
  {
   "cell_type": "markdown",
   "metadata": {},
   "source": [
    "### Guided Practice: Logit Function and Odds"
   ]
  },
  {
   "cell_type": "code",
   "execution_count": 61,
   "metadata": {
    "collapsed": true
   },
   "outputs": [],
   "source": [
    "import numpy as np\n",
    "import pandas as pd"
   ]
  },
  {
   "cell_type": "code",
   "execution_count": 62,
   "metadata": {
    "collapsed": true
   },
   "outputs": [],
   "source": [
    "def logit_func(odds):\n",
    "    # uses a float (odds) and returns back the log odds (logit)\n",
    "    return np.log(odds)\n",
    "\n",
    "def sigmoid_func(logit):\n",
    "    # uses a float (logit) and returns back the probability\n",
    "    return 1. / (1 + np.exp(-logit))\n",
    "\n",
    "odds_set = [\n",
    "    5./1,\n",
    "    20./1,\n",
    "    1.1/1,\n",
    "    1.8/1,\n",
    "    1.6/1\n",
    "]\n",
    "#odds_set is odds of success over odds of failure"
   ]
  },
  {
   "cell_type": "code",
   "execution_count": 63,
   "metadata": {
    "collapsed": false
   },
   "outputs": [
    {
     "name": "stdout",
     "output_type": "stream",
     "text": [
      "0.833333333333\n",
      "0.952380952381\n",
      "0.52380952381\n",
      "0.642857142857\n",
      "0.615384615385\n"
     ]
    }
   ],
   "source": [
    "# looping over the odds set\n",
    "# we can see higher probability is associated with higher odds\n",
    "for odds in odds_set:\n",
    "    log_odds = logit_func(odds)\n",
    "    probability = sigmoid_func(log_odds)\n",
    "    print probability"
   ]
  },
  {
   "cell_type": "code",
   "execution_count": 64,
   "metadata": {
    "collapsed": true
   },
   "outputs": [],
   "source": [
    "#statsmodels need to add a constant, which \n",
    "#statsmodels provides you with a nice readable regression summary\n",
    "import statsmodels.api as sm"
   ]
  },
  {
   "cell_type": "code",
   "execution_count": 65,
   "metadata": {
    "collapsed": true
   },
   "outputs": [],
   "source": [
    "#sklearn do not neet to add a constant\n",
    "from sklearn.linear_model import LogisticRegression"
   ]
  },
  {
   "cell_type": "code",
   "execution_count": 66,
   "metadata": {
    "collapsed": true
   },
   "outputs": [],
   "source": [
    "lm = LogisticRegression()\n",
    "\n",
    "df = pd.read_csv('../../assets/dataset/collegeadmissions.csv')"
   ]
  },
  {
   "cell_type": "code",
   "execution_count": 67,
   "metadata": {
    "collapsed": false
   },
   "outputs": [
    {
     "data": {
      "text/html": [
       "<div>\n",
       "<table border=\"1\" class=\"dataframe\">\n",
       "  <thead>\n",
       "    <tr style=\"text-align: right;\">\n",
       "      <th></th>\n",
       "      <th>admit</th>\n",
       "      <th>gre</th>\n",
       "      <th>gpa</th>\n",
       "      <th>rank</th>\n",
       "    </tr>\n",
       "  </thead>\n",
       "  <tbody>\n",
       "    <tr>\n",
       "      <th>0</th>\n",
       "      <td>0</td>\n",
       "      <td>380</td>\n",
       "      <td>3.61</td>\n",
       "      <td>3</td>\n",
       "    </tr>\n",
       "    <tr>\n",
       "      <th>1</th>\n",
       "      <td>1</td>\n",
       "      <td>660</td>\n",
       "      <td>3.67</td>\n",
       "      <td>3</td>\n",
       "    </tr>\n",
       "    <tr>\n",
       "      <th>2</th>\n",
       "      <td>1</td>\n",
       "      <td>800</td>\n",
       "      <td>4.00</td>\n",
       "      <td>1</td>\n",
       "    </tr>\n",
       "    <tr>\n",
       "      <th>3</th>\n",
       "      <td>1</td>\n",
       "      <td>640</td>\n",
       "      <td>3.19</td>\n",
       "      <td>4</td>\n",
       "    </tr>\n",
       "    <tr>\n",
       "      <th>4</th>\n",
       "      <td>0</td>\n",
       "      <td>520</td>\n",
       "      <td>2.93</td>\n",
       "      <td>4</td>\n",
       "    </tr>\n",
       "  </tbody>\n",
       "</table>\n",
       "</div>"
      ],
      "text/plain": [
       "   admit  gre   gpa  rank\n",
       "0      0  380  3.61     3\n",
       "1      1  660  3.67     3\n",
       "2      1  800  4.00     1\n",
       "3      1  640  3.19     4\n",
       "4      0  520  2.93     4"
      ]
     },
     "execution_count": 67,
     "metadata": {},
     "output_type": "execute_result"
    }
   ],
   "source": [
    "df.head()"
   ]
  },
  {
   "cell_type": "code",
   "execution_count": 68,
   "metadata": {
    "collapsed": false
   },
   "outputs": [],
   "source": [
    "dummies = pd.get_dummies(df['rank'])\n",
    "df = df.join(dummies)\n",
    "\n",
    "#dummies is a dataframe, we know this because you join dataframs\n",
    "#we join on the index\n",
    "#if you join by name, you need to tell the join key.  If you don't specify the join key it joins by index by default\n",
    "#df = df.join(pd.get_dummies(df['rank']))"
   ]
  },
  {
   "cell_type": "code",
   "execution_count": 69,
   "metadata": {
    "collapsed": false
   },
   "outputs": [
    {
     "data": {
      "text/html": [
       "<div>\n",
       "<table border=\"1\" class=\"dataframe\">\n",
       "  <thead>\n",
       "    <tr style=\"text-align: right;\">\n",
       "      <th></th>\n",
       "      <th>admit</th>\n",
       "      <th>gre</th>\n",
       "      <th>gpa</th>\n",
       "      <th>rank</th>\n",
       "      <th>1</th>\n",
       "      <th>2</th>\n",
       "      <th>3</th>\n",
       "      <th>4</th>\n",
       "    </tr>\n",
       "  </thead>\n",
       "  <tbody>\n",
       "    <tr>\n",
       "      <th>0</th>\n",
       "      <td>0</td>\n",
       "      <td>380</td>\n",
       "      <td>3.61</td>\n",
       "      <td>3</td>\n",
       "      <td>0</td>\n",
       "      <td>0</td>\n",
       "      <td>1</td>\n",
       "      <td>0</td>\n",
       "    </tr>\n",
       "    <tr>\n",
       "      <th>1</th>\n",
       "      <td>1</td>\n",
       "      <td>660</td>\n",
       "      <td>3.67</td>\n",
       "      <td>3</td>\n",
       "      <td>0</td>\n",
       "      <td>0</td>\n",
       "      <td>1</td>\n",
       "      <td>0</td>\n",
       "    </tr>\n",
       "    <tr>\n",
       "      <th>2</th>\n",
       "      <td>1</td>\n",
       "      <td>800</td>\n",
       "      <td>4.00</td>\n",
       "      <td>1</td>\n",
       "      <td>1</td>\n",
       "      <td>0</td>\n",
       "      <td>0</td>\n",
       "      <td>0</td>\n",
       "    </tr>\n",
       "    <tr>\n",
       "      <th>3</th>\n",
       "      <td>1</td>\n",
       "      <td>640</td>\n",
       "      <td>3.19</td>\n",
       "      <td>4</td>\n",
       "      <td>0</td>\n",
       "      <td>0</td>\n",
       "      <td>0</td>\n",
       "      <td>1</td>\n",
       "    </tr>\n",
       "    <tr>\n",
       "      <th>4</th>\n",
       "      <td>0</td>\n",
       "      <td>520</td>\n",
       "      <td>2.93</td>\n",
       "      <td>4</td>\n",
       "      <td>0</td>\n",
       "      <td>0</td>\n",
       "      <td>0</td>\n",
       "      <td>1</td>\n",
       "    </tr>\n",
       "  </tbody>\n",
       "</table>\n",
       "</div>"
      ],
      "text/plain": [
       "   admit  gre   gpa  rank  1  2  3  4\n",
       "0      0  380  3.61     3  0  0  1  0\n",
       "1      1  660  3.67     3  0  0  1  0\n",
       "2      1  800  4.00     1  1  0  0  0\n",
       "3      1  640  3.19     4  0  0  0  1\n",
       "4      0  520  2.93     4  0  0  0  1"
      ]
     },
     "execution_count": 69,
     "metadata": {},
     "output_type": "execute_result"
    }
   ],
   "source": [
    "df.head()"
   ]
  },
  {
   "cell_type": "code",
   "execution_count": 70,
   "metadata": {
    "collapsed": false
   },
   "outputs": [
    {
     "name": "stdout",
     "output_type": "stream",
     "text": [
      "['admit', 'gre', 'gpa', 'rank', 1, 2, 3, 4]\n",
      "['gre', 'gpa', 1, 2, 3]\n"
     ]
    }
   ],
   "source": [
    "columns = df.columns.tolist()\n",
    "print columns\n",
    "\n",
    "columnsToKeep = columns[1:3] + columns[4:7]\n",
    "print columnsToKeep"
   ]
  },
  {
   "cell_type": "code",
   "execution_count": 71,
   "metadata": {
    "collapsed": false
   },
   "outputs": [],
   "source": [
    "from sklearn.cross_validation import train_test_split\n",
    "\n",
    "X = df[columnsToKeep]\n",
    "y = df.admit\n",
    "\n",
    "X_train, X_test, y_train, y_test = train_test_split(X, y, test_size=0.3, random_state=42)"
   ]
  },
  {
   "cell_type": "code",
   "execution_count": 72,
   "metadata": {
    "collapsed": false
   },
   "outputs": [
    {
     "data": {
      "text/plain": [
       "pandas.core.frame.DataFrame"
      ]
     },
     "execution_count": 72,
     "metadata": {},
     "output_type": "execute_result"
    }
   ],
   "source": [
    "type(X_train)"
   ]
  },
  {
   "cell_type": "code",
   "execution_count": 73,
   "metadata": {
    "collapsed": false
   },
   "outputs": [
    {
     "data": {
      "text/plain": [
       "LogisticRegression(C=1.0, class_weight=None, dual=False, fit_intercept=True,\n",
       "          intercept_scaling=1, max_iter=100, multi_class='ovr', n_jobs=1,\n",
       "          penalty='l2', random_state=None, solver='liblinear', tol=0.0001,\n",
       "          verbose=0, warm_start=False)"
      ]
     },
     "execution_count": 73,
     "metadata": {},
     "output_type": "execute_result"
    }
   ],
   "source": [
    "lm.fit(X_train, y_train)"
   ]
  },
  {
   "cell_type": "code",
   "execution_count": 74,
   "metadata": {
    "collapsed": false
   },
   "outputs": [
    {
     "data": {
      "text/plain": [
       "LogisticRegression(C=1.0, class_weight=None, dual=False, fit_intercept=True,\n",
       "          intercept_scaling=1, max_iter=100, multi_class='ovr', n_jobs=1,\n",
       "          penalty='l2', random_state=None, solver='liblinear', tol=0.0001,\n",
       "          verbose=0, warm_start=False)"
      ]
     },
     "execution_count": 74,
     "metadata": {},
     "output_type": "execute_result"
    }
   ],
   "source": [
    "lm.fit(df[columnsToKeep], df['admit'])\n",
    "\n",
    "#Alternative:  lm.fit(df[['gre', 'gpa', 1, 2, 3,]], df['admit'])\n",
    "#you need to set a baseline for dummy variables because of colinearity, you dont want redundant information\n",
    "#here we are slicing the dataframe and keeping only 1,2,3 (not 4 or Rank)"
   ]
  },
  {
   "cell_type": "code",
   "execution_count": 75,
   "metadata": {
    "collapsed": true
   },
   "outputs": [],
   "source": [
    "import numpy as np"
   ]
  },
  {
   "cell_type": "code",
   "execution_count": 76,
   "metadata": {
    "collapsed": false
   },
   "outputs": [
    {
     "name": "stdout",
     "output_type": "stream",
     "text": [
      "[[  1.63913356e-03   4.33354115e-04   1.15220976e+00   5.14395667e-01\n",
      "   -3.62326171e-02]]\n",
      "[-2.09315183]\n",
      "0.3175\n"
     ]
    }
   ],
   "source": [
    "print lm.coef_\n",
    "print lm.intercept_\n",
    "print df.admit.mean()"
   ]
  },
  {
   "cell_type": "markdown",
   "metadata": {},
   "source": [
    "Below is some code to walk through confusion matrices. It'll be useful for working through the Titanic problem."
   ]
  },
  {
   "cell_type": "code",
   "execution_count": 77,
   "metadata": {
    "collapsed": false
   },
   "outputs": [],
   "source": [
    "%matplotlib inline\n",
    "import matplotlib.pyplot as plt\n",
    "from sklearn.metrics import roc_curve, roc_auc_score"
   ]
  },
  {
   "cell_type": "markdown",
   "metadata": {},
   "source": [
    "Below the ROC curve is based on various thresholds: it shows with a false positive rate (x-axis) ~0, it also expects a true positive rate (y-axis) ~0 (the same, ish, for the top right hand of the figure).\n",
    "\n",
    "The second chart, which does not play with thesholds, shows the one true TPR and FPR point, joined to 0,0 and 1,1.\n",
    "\n",
    "The first chart will be more effective as you compare models and determine where the decision line should exist for the data. The second simplifies the first in case this idea of thresholds is confusing."
   ]
  },
  {
   "cell_type": "code",
   "execution_count": 88,
   "metadata": {
    "collapsed": false
   },
   "outputs": [
    {
     "name": "stdout",
     "output_type": "stream",
     "text": [
      "[0 0 0 0 0 0 0 0 0 1 0 0 0 0 0 0 0 0 0 0 0 0 0 0 0 0 0 0 0 0 0 0 0 0 0 0 1\n",
      " 0 0 0 0 0 0 1 0 0 0 0 0 0 0 0 0 0 0 0 0 0 0 0 0 0 0 0 0 0 0 0 0 0 0 0 0 0\n",
      " 0 0 0 0 0 0 0 0 1 0 0 0 0 0 0 0 0 1 1 0 0 0 1 0 0 0 0 0 0 0 0 0 0 0 1 0 0\n",
      " 0 0 0 0 0 1 0 0 0]\n",
      "[[ 0.65170495  0.34829505]\n",
      " [ 0.6213355   0.3786645 ]\n",
      " [ 0.69345976  0.30654024]\n",
      " [ 0.70656221  0.29343779]\n",
      " [ 0.65176102  0.34823898]\n",
      " [ 0.78722144  0.21277856]\n",
      " [ 0.78113884  0.21886116]\n",
      " [ 0.62138648  0.37861352]\n",
      " [ 0.76383714  0.23616286]\n",
      " [ 0.48898375  0.51101625]\n",
      " [ 0.60579341  0.39420659]\n",
      " [ 0.51357105  0.48642895]\n",
      " [ 0.77031439  0.22968561]\n",
      " [ 0.78665826  0.21334174]\n",
      " [ 0.65171479  0.34828521]\n",
      " [ 0.644262    0.355738  ]\n",
      " [ 0.72656042  0.27343958]\n",
      " [ 0.63666545  0.36333455]\n",
      " [ 0.75850176  0.24149824]\n",
      " [ 0.56247116  0.43752884]\n",
      " [ 0.69345976  0.30654024]\n",
      " [ 0.79267236  0.20732764]\n",
      " [ 0.62134162  0.37865838]\n",
      " [ 0.77605263  0.22394737]\n",
      " [ 0.81831149  0.18168851]\n",
      " [ 0.77032589  0.22967411]\n",
      " [ 0.72062103  0.27937897]\n",
      " [ 0.72065069  0.27934931]\n",
      " [ 0.78170884  0.21829116]\n",
      " [ 0.62133448  0.37866552]\n",
      " [ 0.63662836  0.36337164]\n",
      " [ 0.81286357  0.18713643]\n",
      " [ 0.70186033  0.29813967]\n",
      " [ 0.81835465  0.18164535]\n",
      " [ 0.72200334  0.27799666]\n",
      " [ 0.70183312  0.29816688]\n",
      " [ 0.4890184   0.5109816 ]\n",
      " [ 0.78106326  0.21893674]\n",
      " [ 0.62138138  0.37861862]\n",
      " [ 0.7199539   0.2800461 ]\n",
      " [ 0.66643651  0.33356349]\n",
      " [ 0.71395937  0.28604063]\n",
      " [ 0.77030135  0.22969865]\n",
      " [ 0.40806971  0.59193029]\n",
      " [ 0.68092261  0.31907739]\n",
      " [ 0.66643458  0.33356542]\n",
      " [ 0.53814994  0.46185006]\n",
      " [ 0.78106845  0.21893155]\n",
      " [ 0.75183996  0.24816004]\n",
      " [ 0.56610154  0.43389846]\n",
      " [ 0.65170888  0.34829112]\n",
      " [ 0.69491589  0.30508411]\n",
      " [ 0.51360245  0.48639755]\n",
      " [ 0.74623001  0.25376999]\n",
      " [ 0.6590814   0.3409186 ]\n",
      " [ 0.78174656  0.21825344]\n",
      " [ 0.69350858  0.30649142]\n",
      " [ 0.73365874  0.26634126]\n",
      " [ 0.76965809  0.23034191]\n",
      " [ 0.62901729  0.37098271]\n",
      " [ 0.72061754  0.27938246]\n",
      " [ 0.53818871  0.46181129]\n",
      " [ 0.74628335  0.25371665]\n",
      " [ 0.51361111  0.48638889]\n",
      " [ 0.76443316  0.23556684]\n",
      " [ 0.70727609  0.29272391]\n",
      " [ 0.76446828  0.23553172]\n",
      " [ 0.61364168  0.38635832]\n",
      " [ 0.79796986  0.20203014]\n",
      " [ 0.65165577  0.34834423]\n",
      " [ 0.79802924  0.20197076]\n",
      " [ 0.6290183   0.3709817 ]\n",
      " [ 0.58217651  0.41782349]\n",
      " [ 0.79800758  0.20199242]\n",
      " [ 0.62909515  0.37090485]\n",
      " [ 0.61365401  0.38634599]\n",
      " [ 0.76971648  0.23028352]\n",
      " [ 0.56605257  0.43394743]\n",
      " [ 0.67376674  0.32623326]\n",
      " [ 0.80277612  0.19722388]\n",
      " [ 0.73937525  0.26062475]\n",
      " [ 0.56606748  0.43393252]\n",
      " [ 0.44814096  0.55185904]\n",
      " [ 0.73299848  0.26700152]\n",
      " [ 0.67371911  0.32628089]\n",
      " [ 0.73362741  0.26637259]\n",
      " [ 0.73364519  0.26635481]\n",
      " [ 0.74000532  0.25999468]\n",
      " [ 0.8134312   0.1865688 ]\n",
      " [ 0.60580273  0.39419727]\n",
      " [ 0.80842233  0.19157767]\n",
      " [ 0.48077736  0.51922264]\n",
      " [ 0.40806553  0.59193447]\n",
      " [ 0.77605639  0.22394361]\n",
      " [ 0.75240559  0.24759441]\n",
      " [ 0.76968268  0.23031732]\n",
      " [ 0.48081414  0.51918586]\n",
      " [ 0.60582136  0.39417864]\n",
      " [ 0.7272066   0.2727934 ]\n",
      " [ 0.72060707  0.27939293]\n",
      " [ 0.70185851  0.29814149]\n",
      " [ 0.72655353  0.27344647]\n",
      " [ 0.6927379   0.3072621 ]\n",
      " [ 0.70653705  0.29346295]\n",
      " [ 0.76444175  0.23555825]\n",
      " [ 0.71540221  0.28459779]\n",
      " [ 0.51353641  0.48646359]\n",
      " [ 0.72715932  0.27284068]\n",
      " [ 0.4240872   0.5759128 ]\n",
      " [ 0.63674364  0.36325636]\n",
      " [ 0.62913357  0.37086643]\n",
      " [ 0.65171872  0.34828128]\n",
      " [ 0.61361702  0.38638298]\n",
      " [ 0.59003851  0.40996149]\n",
      " [ 0.69496275  0.30503725]\n",
      " [ 0.63671056  0.36328944]\n",
      " [ 0.48074599  0.51925401]\n",
      " [ 0.75180034  0.24819966]\n",
      " [ 0.75785493  0.24214507]\n",
      " [ 0.82315623  0.17684377]]\n"
     ]
    },
    {
     "data": {
      "text/plain": [
       "[<matplotlib.lines.Line2D at 0x116c26550>]"
      ]
     },
     "execution_count": 88,
     "metadata": {},
     "output_type": "execute_result"
    },
    {
     "data": {
      "image/png": "[encoded data removed]",
      "text/plain": [
       "<matplotlib.figure.Figure at 0x1158bb6d0>"
      ]
     },
     "metadata": {},
     "output_type": "display_data"
    }
   ],
   "source": [
    "actuals = lm.predict(X_test) \n",
    "probas = lm.predict_proba(X_test)\n",
    "\n",
    "print actuals\n",
    "print probas\n",
    "\n",
    "fpr = roc_curve(y_test, probas[:,1])[0]\n",
    "tpr = roc_curve(y_test, probas[:,1])[1]\n",
    "\n",
    "plt.plot(fpr, tpr)\n",
    "\n",
    "\n",
    "#plt.plot(roc_curve(y_test, probas[:,1])[0], roc_curve(y_test, probas[:,1])[1])"
   ]
  },
  {
   "cell_type": "code",
   "execution_count": 100,
   "metadata": {
    "collapsed": false,
    "scrolled": true
   },
   "outputs": [
    {
     "name": "stdout",
     "output_type": "stream",
     "text": [
      "predicted_class_0   1\n",
      "actual               \n",
      "0                  81\n",
      "1                  39\n",
      "predicted_class_0.05   1\n",
      "actual                  \n",
      "0                     81\n",
      "1                     39\n",
      "predicted_class_0.1   1\n",
      "actual                 \n",
      "0                    81\n",
      "1                    39\n",
      "predicted_class_0.15   1\n",
      "actual                  \n",
      "0                     81\n",
      "1                     39\n",
      "predicted_class_0.2  0   1\n",
      "actual                    \n",
      "0                    7  74\n",
      "1                    0  39\n",
      "predicted_class_0.25   0   1\n",
      "actual                      \n",
      "0                     29  52\n",
      "1                      6  33\n",
      "predicted_class_0.3   0   1\n",
      "actual                     \n",
      "0                    47  34\n",
      "1                    14  25\n",
      "predicted_class_0.35   0   1\n",
      "actual                      \n",
      "0                     61  20\n",
      "1                     18  21\n",
      "predicted_class_0.4   0   1\n",
      "actual                     \n",
      "0                    74   7\n",
      "1                    25  14\n",
      "predicted_class_0.45   0   1\n",
      "actual                      \n",
      "0                     77   4\n",
      "1                     28  11\n",
      "predicted_class_0.5   0  1\n",
      "actual                    \n",
      "0                    80  1\n",
      "1                    31  8\n",
      "predicted_class_0.55   0  1\n",
      "actual                     \n",
      "0                     81  0\n",
      "1                     35  4\n",
      "predicted_class_0.6   0\n",
      "actual                 \n",
      "0                    81\n",
      "1                    39\n",
      "predicted_class_0.65   0\n",
      "actual                  \n",
      "0                     81\n",
      "1                     39\n",
      "predicted_class_0.7   0\n",
      "actual                 \n",
      "0                    81\n",
      "1                    39\n",
      "predicted_class_0.75   0\n",
      "actual                  \n",
      "0                     81\n",
      "1                     39\n",
      "predicted_class_0.8   0\n",
      "actual                 \n",
      "0                    81\n",
      "1                    39\n",
      "predicted_class_0.85   0\n",
      "actual                  \n",
      "0                     81\n",
      "1                     39\n",
      "predicted_class_0.9   0\n",
      "actual                 \n",
      "0                    81\n",
      "1                    39\n",
      "predicted_class_0.95   0\n",
      "actual                  \n",
      "0                     81\n",
      "1                     39\n"
     ]
    }
   ],
   "source": [
    "np.array(probas[:,1])\n",
    "\n",
    "\n",
    "predictionDf = pd.DataFrame({\"actual\" : y_test, \"predicted\" : np.array(probas[:,1])})\n",
    "predictionDf\n",
    "#here we are making a dataframe\n",
    "\n",
    "threshold = 0\n",
    "while threshold <= 1:\n",
    "    columnName = \"predicted_class_{}\".format(threshold)\n",
    "    predictionDf[columnName] = predictionDf.predicted.apply(lambda prob: 1 if prob >= threshold else 0)\n",
    "    #creating a new column for each threshold and that new column will either be 1 (if greater than or equal to the threshold) or 0 if not\n",
    "    print pd.crosstab(predictionDf.actual, predictionDf[columnName])\n",
    "    #using crosstab, which is the same thing as a confusion matrix\n",
    "    #interpretation:  at 10% our mod\n",
    "    #want to maximize the diagonals.  The best threshold you have will be the same as your roc value\n",
    "    threshold += 0.05\n",
    "    "
   ]
  },
  {
   "cell_type": "code",
   "execution_count": 75,
   "metadata": {
    "collapsed": false
   },
   "outputs": [
    {
     "data": {
      "text/plain": [
       "[<matplotlib.lines.Line2D at 0x10996c310>]"
      ]
     },
     "execution_count": 75,
     "metadata": {},
     "output_type": "execute_result"
    },
    {
     "data": {
      "image/png": "[encoded data removed]",
      "text/plain": [
       "<matplotlib.figure.Figure at 0x10c1fe850>"
      ]
     },
     "metadata": {},
     "output_type": "display_data"
    }
   ],
   "source": [
    "#actuals = lm.predict(feature_set) \n",
    "#probas = lm.predict_proba(feature_set)\n",
    "#plt.plot(roc_curve(df[['admit']], probas[:,1])[0], roc_curve(df[['admit']], probas[:,1])[1])"
   ]
  },
  {
   "cell_type": "code",
   "execution_count": 71,
   "metadata": {
    "collapsed": false
   },
   "outputs": [
    {
     "data": {
      "text/plain": [
       "[<matplotlib.lines.Line2D at 0x10c1fe7d0>]"
      ]
     },
     "execution_count": 71,
     "metadata": {},
     "output_type": "execute_result"
    },
    {
     "data": {
      "image/png": "[encoded data removed]",
      "text/plain": [
       "<matplotlib.figure.Figure at 0x10c76a510>"
      ]
     },
     "metadata": {},
     "output_type": "display_data"
    }
   ],
   "source": [
    "plt.plot(roc_curve(df[['admit']], actuals)[0], roc_curve(df[['admit']], actuals)[1])"
   ]
  },
  {
   "cell_type": "markdown",
   "metadata": {},
   "source": [
    "Finally, you can use the `roc_auc_score` function to calculate the area under these curves (AUC)."
   ]
  },
  {
   "cell_type": "code",
   "execution_count": 91,
   "metadata": {
    "collapsed": false
   },
   "outputs": [
    {
     "data": {
      "text/plain": [
       "0.59639126305792967"
      ]
     },
     "execution_count": 91,
     "metadata": {},
     "output_type": "execute_result"
    }
   ],
   "source": [
    "roc_auc_score(y_test, lm.predict(X_test))"
   ]
  },
  {
   "cell_type": "markdown",
   "metadata": {},
   "source": [
    "### Titanic Problem"
   ]
  },
  {
   "cell_type": "markdown",
   "metadata": {},
   "source": [
    "** Goals **\n",
    "\n",
    "1. Spend a few minutes determining which data would be most important to use in the prediction problem. You may need to create new features based on the data available. Consider using a feature selection aide in sklearn. But a worst case scenario; identify one or two strong features that would be useful to include in the model.\n",
    "2. Spend 1-2 minutes considering which _metric_ makes the most sense to optimize. Accuracy? FPR or TPR? AUC? Given the business problem (understanding survival rate aboard the Titanic), why should you use this metric?\n",
    "3. Build a tuned Logistic model. Be prepared to explain your design (including regularization), metric, and feature set in predicting survival using the tools necessary (such as a fit chart)."
   ]
  },
  {
   "cell_type": "code",
   "execution_count": null,
   "metadata": {
    "collapsed": true
   },
   "outputs": [],
   "source": []
  }
 ],
 "metadata": {
  "anaconda-cloud": {},
  "kernelspec": {
   "display_name": "Python [default]",
   "language": "python",
   "name": "python2"
  },
  "language_info": {
   "codemirror_mode": {
    "name": "ipython",
    "version": 2
   },
   "file_extension": ".py",
   "mimetype": "text/x-python",
   "name": "python",
   "nbconvert_exporter": "python",
   "pygments_lexer": "ipython2",
   "version": "2.7.12"
  }
 },
 "nbformat": 4,
 "nbformat_minor": 0
}
