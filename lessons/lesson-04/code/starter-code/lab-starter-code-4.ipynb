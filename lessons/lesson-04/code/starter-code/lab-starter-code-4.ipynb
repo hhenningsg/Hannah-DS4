{
 "cells": [
  {
   "cell_type": "markdown",
   "metadata": {},
   "source": [
    "# Lesson 4 Independent Practice"
   ]
  },
  {
   "cell_type": "markdown",
   "metadata": {
    "collapsed": true
   },
   "source": [
    "### For this exercise, we are going to take a look at several studies and outputs in order to get comfortable reading outputs and practicing hypothesis testing."
   ]
  },
  {
   "cell_type": "markdown",
   "metadata": {},
   "source": [
    "## Data output 1\n",
    "This dataset examines the association between an outcome and generic variables x1, x2, x3\n",
    "<img src='../../assets/images/generic-output.png'>"
   ]
  },
  {
   "cell_type": "markdown",
   "metadata": {},
   "source": [
    "#### Question 1.1 X6 has an association with the outcome of -0.2. Is this finding statistically significant? "
   ]
  },
  {
   "cell_type": "markdown",
   "metadata": {},
   "source": [
    "Answer: -0.2 is referring to the coefficient....This is not significant because zero falls within the confidence interval [-0.485, 0.111] for X6.  Also, the p-value is greater than 0.05 for X6."
   ]
  },
  {
   "cell_type": "markdown",
   "metadata": {},
   "source": [
    "#### Question 1.2 Which of the variables X1, X3, and X6 have a statistically significant finding? "
   ]
  },
  {
   "cell_type": "markdown",
   "metadata": {},
   "source": [
    "Answer:X1 is statistically significant because zero does not fall within the CI and the p-value is below 0.05.  X2 is not statistically significant becuase zero falls within the CI and the p-value is above 0.05.  X6 is not statistically significant (look at previous answer)."
   ]
  },
  {
   "cell_type": "markdown",
   "metadata": {},
   "source": [
    "#### Question 1.3 What does a 95% CI of 0.38-0.866 indicate? "
   ]
  },
  {
   "cell_type": "markdown",
   "metadata": {},
   "source": [
    "Answer: We can say with 95% confidene that the coefficient will fall within this interval.  i.e. the probability that our mean value falls within [0.38,0.866] is 95%."
   ]
  },
  {
   "cell_type": "markdown",
   "metadata": {},
   "source": [
    "## Data Output 2 \n",
    "This is a data set of different animals. We measured the brain size and body size of each animale in our data set. We aim to determine if there is an association between the body size and brain size of animals in our dataset."
   ]
  },
  {
   "cell_type": "markdown",
   "metadata": {},
   "source": [
    "<img src=\"../../assets/images/body-size.png\">"
   ]
  },
  {
   "cell_type": "markdown",
   "metadata": {},
   "source": [
    "#### Question 2.1 What is the outcome in this model? "
   ]
  },
  {
   "cell_type": "markdown",
   "metadata": {
    "collapsed": true
   },
   "source": [
    "Answer: The output is the brain size of a given animal, it is the dependent variable"
   ]
  },
  {
   "cell_type": "markdown",
   "metadata": {},
   "source": [
    "#### Question 2.2 What is the predictor in this model? \n"
   ]
  },
  {
   "cell_type": "markdown",
   "metadata": {
    "collapsed": true
   },
   "source": [
    "Answer: The animal body size"
   ]
  },
  {
   "cell_type": "markdown",
   "metadata": {},
   "source": [
    "#### Question 2.3 What is the association body and brain size? \n"
   ]
  },
  {
   "cell_type": "markdown",
   "metadata": {},
   "source": [
    "Answer: The body and brain have a relatively high correlation based on the high R-squared and high Radj-squared.  We can infer a positive correlation because the coefficient is positive so there is a positive slope."
   ]
  },
  {
   "cell_type": "markdown",
   "metadata": {},
   "source": [
    "#### Question 2.4 Is this relationship statistically significant? How did you decide?"
   ]
  },
  {
   "cell_type": "markdown",
   "metadata": {},
   "source": [
    "Answer:  The relationship is significant because zero does not fall in the confidence interval for the body [0.871, 1.062] and the p-value is less than 0.05."
   ]
  },
  {
   "cell_type": "markdown",
   "metadata": {},
   "source": [
    "#### Question 2.5 Is this relationship biologically significant? What other information would you need to decide this?\n"
   ]
  },
  {
   "cell_type": "markdown",
   "metadata": {},
   "source": [
    "Answer: Things be correlated, but not necessarily causation.  So we cannot say that there is causation because there are other factors"
   ]
  },
  {
   "cell_type": "markdown",
   "metadata": {},
   "source": [
    "## Data Set 3: A study about french fries and diabetes\n",
    "Take a look at the abstract"
   ]
  },
  {
   "cell_type": "markdown",
   "metadata": {},
   "source": [
    "<img src=\"../../assets/images/fry-abstract.png\">"
   ]
  },
  {
   "cell_type": "markdown",
   "metadata": {},
   "source": [
    "### Table 1 - Review Table 1"
   ]
  },
  {
   "cell_type": "markdown",
   "metadata": {},
   "source": [
    "<img src='../../assets/images/fry-table1.png'>"
   ]
  },
  {
   "cell_type": "markdown",
   "metadata": {},
   "source": [
    "#### Question 3.1 Is there a statistically significant diffence by age among the different levels of fry or potato intake?"
   ]
  },
  {
   "cell_type": "markdown",
   "metadata": {},
   "source": [
    "Answer: [Relative risk = outcome]  No, age is not significant becuase the ages overlap within each quintile.  They also tell you about the \"Test for trend\""
   ]
  },
  {
   "cell_type": "markdown",
   "metadata": {},
   "source": [
    "<img src=\"../../assets/images/fry-table2.png\">"
   ]
  },
  {
   "cell_type": "markdown",
   "metadata": {
    "collapsed": true
   },
   "source": [
    "#### Question 3.2 What are the numbers in the parentheses?"
   ]
  },
  {
   "cell_type": "markdown",
   "metadata": {},
   "source": [
    "Answer: Confidence Intervals"
   ]
  },
  {
   "cell_type": "markdown",
   "metadata": {},
   "source": [
    "#### Question 3.3 Is the risk of diabetes statistically significant for women who eat the highest mean servings of potatos (quintile 5) compared to the lowest group (quintile 1)?"
   ]
  },
  {
   "cell_type": "markdown",
   "metadata": {
    "collapsed": true
   },
   "source": [
    "Answer: Yes the risk of diabetes is statistically significant for women who eat the highest mean of servings of potatos because 1.0 does not fall in the CI interval and the p-value is below 0.05."
   ]
  },
  {
   "cell_type": "markdown",
   "metadata": {},
   "source": [
    "#### Question 3.4 Is the risk of diabetes statistically significant for women who eat the second lowest mean servings of potatos (quintile 2) compared to the lowest group (quintile 1)?"
   ]
  },
  {
   "cell_type": "markdown",
   "metadata": {},
   "source": [
    "Answer: No the risk of diabetes is statistically significant for women who eat the second lowest mean of servings of potatos because 1.0 does not fall in the CI interval."
   ]
  }
 ],
 "metadata": {
  "anaconda-cloud": {},
  "kernelspec": {
   "display_name": "Python [default]",
   "language": "python",
   "name": "python2"
  },
  "language_info": {
   "codemirror_mode": {
    "name": "ipython",
    "version": 2
   },
   "file_extension": ".py",
   "mimetype": "text/x-python",
   "name": "python",
   "nbconvert_exporter": "python",
   "pygments_lexer": "ipython2",
   "version": "2.7.12"
  }
 },
 "nbformat": 4,
 "nbformat_minor": 0
}
