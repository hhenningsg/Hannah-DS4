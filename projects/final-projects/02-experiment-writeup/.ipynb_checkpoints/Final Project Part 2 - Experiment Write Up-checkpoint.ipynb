{
 "cells": [
  {
   "cell_type": "markdown",
   "metadata": {},
   "source": [
    "# Experimental Write Up: Predicting Housing Prices"
   ]
  },
  {
   "cell_type": "markdown",
   "metadata": {},
   "source": [
    "## I. Project Problem & Hypothesis"
   ]
  },
  {
   "cell_type": "markdown",
   "metadata": {},
   "source": [
    "#### What's the project about? What problem are you solving?\n",
    "This project is about predicting the value (price) of a home based on the home's characteristics.  The housing market plays a vital role in the health of our economy.  People and companies are investing in property all the time for financial gains, but the challenge is the ability to forecast the return on an investment by accurately predicting the final price of a home. \n",
    "* Problem Statement:  Can we predict the price at which a home will sell for on the market given its characteristics?\n",
    "* Hypothesis: Housing units with more than one bedroom and a pool are worth more and will sell at a much higher price than single bedroom homes without a pool."
   ]
  },
  {
   "cell_type": "markdown",
   "metadata": {},
   "source": [
    "####  Where does this seem to reside as a machine learning problem? Are you predicting some continuous number, or predicting a binary value?\n",
    "In regards to machine learning, this is a supervised learning problem.  The goal here is to build a regression model from a given set of predictors or independent variables, given that response variable or dependent variable (the outcome) is continuous in nature.  We will be predicting the market value (price) of a housing unit for one particular region of the United States.  The price of the home is our output and the characteristics of the home are our predictors.  With this regression analysis I will generate an equation to describe the statistical relationship between one or more predictor variables and the response variable."
   ]
  },
  {
   "cell_type": "markdown",
   "metadata": {},
   "source": [
    "#### What kind of impact do you think it could have?\n",
    "As I mentioned before, the housing market has a large impact on the economy; it directly affects home builders, the mortgage market, real estates, investment banks, home supply retail outlets, etc. The housing bubble that started in early 2006 affected a majority of states in America. Overvaluation of houses resulted in increased forclosures and a credit crisis, leading to high and prolonged unemployment rates.  I think that proper valuation of housing market can help avoid the onset of a housing bubble.  Lending companies, banks, and individual home owners can all benefit from proper valuation of homes.  In particular, I see value for individuals looking to invest in homes and sell for a profit by having the ability to accurately predict the price of a home before it is sold."
   ]
  },
  {
   "cell_type": "markdown",
   "metadata": {},
   "source": [
    "#### What do you think will have the most impact in predicting the value you are interested in solving for?\n",
    "In this project I am analyzing a particular geographical region of Iowa.  It is important to note that I am not looking at data from all states, just a region within Iowa.  It is also important to consider the demographics of the population in Ames, which is likely to be very different than the population of a more urban city.  Given these factors, I think that variables relating to the size of a home will have the most impact on predicting the value of the property, more so than the variables relating to the type of home."
   ]
  },
  {
   "cell_type": "markdown",
   "metadata": {},
   "source": [
    "## II. The Dataset"
   ]
  },
  {
   "cell_type": "markdown",
   "metadata": {},
   "source": [
    "#### Description of data set available, at the field level (see table)\n",
    "In this project I am considering real estate data from the city of Ames, Iowa.  The details of every real estate transation is recorded by a city's Tax Assesor's office.  Sometimes that data is readily available for public use and other times it is not.  The dataset I have for the city of Ames is for residential home sales between 2006 and 2010.  The type of information contained in the data is similar to what a typical home buyer would want to know before making a purchase.  The dataset is not large (2930 records) and the variables are a mix of nominal, ordinal, continuous, and discrete.  A few more details on the dataset:\n",
    "\n",
    "* Source:  Ames, Iowa Assessors Office\n",
    "* 80 variables directly related to property sales\n",
    "* 2930 unique observations\n",
    "* Time period:  2006 - 2010\n",
    "* The dataset has 82 columns, which includes:\n",
    "    * 23 categorical nominal\n",
    "    * 23 categorical ordinal\n",
    "    * 20 continuous\n",
    "    * 14 discrete"
   ]
  },
  {
   "cell_type": "code",
   "execution_count": 3,
   "metadata": {
    "collapsed": false
   },
   "outputs": [
    {
     "data": {
      "text/html": [
       "<div>\n",
       "<table border=\"1\" class=\"dataframe\">\n",
       "  <thead>\n",
       "    <tr style=\"text-align: right;\">\n",
       "      <th></th>\n",
       "      <th>Id</th>\n",
       "      <th>MSSubClass</th>\n",
       "      <th>MSZoning</th>\n",
       "      <th>LotFrontage</th>\n",
       "      <th>LotArea</th>\n",
       "      <th>Street</th>\n",
       "      <th>Alley</th>\n",
       "      <th>LotShape</th>\n",
       "      <th>LandContour</th>\n",
       "      <th>Utilities</th>\n",
       "      <th>...</th>\n",
       "      <th>PoolArea</th>\n",
       "      <th>PoolQC</th>\n",
       "      <th>Fence</th>\n",
       "      <th>MiscFeature</th>\n",
       "      <th>MiscVal</th>\n",
       "      <th>MoSold</th>\n",
       "      <th>YrSold</th>\n",
       "      <th>SaleType</th>\n",
       "      <th>SaleCondition</th>\n",
       "      <th>SalePrice</th>\n",
       "    </tr>\n",
       "  </thead>\n",
       "  <tbody>\n",
       "    <tr>\n",
       "      <th>0</th>\n",
       "      <td>1</td>\n",
       "      <td>60</td>\n",
       "      <td>RL</td>\n",
       "      <td>65.0</td>\n",
       "      <td>8450</td>\n",
       "      <td>Pave</td>\n",
       "      <td>NaN</td>\n",
       "      <td>Reg</td>\n",
       "      <td>Lvl</td>\n",
       "      <td>AllPub</td>\n",
       "      <td>...</td>\n",
       "      <td>0</td>\n",
       "      <td>NaN</td>\n",
       "      <td>NaN</td>\n",
       "      <td>NaN</td>\n",
       "      <td>0</td>\n",
       "      <td>2</td>\n",
       "      <td>2008</td>\n",
       "      <td>WD</td>\n",
       "      <td>Normal</td>\n",
       "      <td>208500</td>\n",
       "    </tr>\n",
       "    <tr>\n",
       "      <th>1</th>\n",
       "      <td>2</td>\n",
       "      <td>20</td>\n",
       "      <td>RL</td>\n",
       "      <td>80.0</td>\n",
       "      <td>9600</td>\n",
       "      <td>Pave</td>\n",
       "      <td>NaN</td>\n",
       "      <td>Reg</td>\n",
       "      <td>Lvl</td>\n",
       "      <td>AllPub</td>\n",
       "      <td>...</td>\n",
       "      <td>0</td>\n",
       "      <td>NaN</td>\n",
       "      <td>NaN</td>\n",
       "      <td>NaN</td>\n",
       "      <td>0</td>\n",
       "      <td>5</td>\n",
       "      <td>2007</td>\n",
       "      <td>WD</td>\n",
       "      <td>Normal</td>\n",
       "      <td>181500</td>\n",
       "    </tr>\n",
       "    <tr>\n",
       "      <th>2</th>\n",
       "      <td>3</td>\n",
       "      <td>60</td>\n",
       "      <td>RL</td>\n",
       "      <td>68.0</td>\n",
       "      <td>11250</td>\n",
       "      <td>Pave</td>\n",
       "      <td>NaN</td>\n",
       "      <td>IR1</td>\n",
       "      <td>Lvl</td>\n",
       "      <td>AllPub</td>\n",
       "      <td>...</td>\n",
       "      <td>0</td>\n",
       "      <td>NaN</td>\n",
       "      <td>NaN</td>\n",
       "      <td>NaN</td>\n",
       "      <td>0</td>\n",
       "      <td>9</td>\n",
       "      <td>2008</td>\n",
       "      <td>WD</td>\n",
       "      <td>Normal</td>\n",
       "      <td>223500</td>\n",
       "    </tr>\n",
       "    <tr>\n",
       "      <th>3</th>\n",
       "      <td>4</td>\n",
       "      <td>70</td>\n",
       "      <td>RL</td>\n",
       "      <td>60.0</td>\n",
       "      <td>9550</td>\n",
       "      <td>Pave</td>\n",
       "      <td>NaN</td>\n",
       "      <td>IR1</td>\n",
       "      <td>Lvl</td>\n",
       "      <td>AllPub</td>\n",
       "      <td>...</td>\n",
       "      <td>0</td>\n",
       "      <td>NaN</td>\n",
       "      <td>NaN</td>\n",
       "      <td>NaN</td>\n",
       "      <td>0</td>\n",
       "      <td>2</td>\n",
       "      <td>2006</td>\n",
       "      <td>WD</td>\n",
       "      <td>Abnorml</td>\n",
       "      <td>140000</td>\n",
       "    </tr>\n",
       "    <tr>\n",
       "      <th>4</th>\n",
       "      <td>5</td>\n",
       "      <td>60</td>\n",
       "      <td>RL</td>\n",
       "      <td>84.0</td>\n",
       "      <td>14260</td>\n",
       "      <td>Pave</td>\n",
       "      <td>NaN</td>\n",
       "      <td>IR1</td>\n",
       "      <td>Lvl</td>\n",
       "      <td>AllPub</td>\n",
       "      <td>...</td>\n",
       "      <td>0</td>\n",
       "      <td>NaN</td>\n",
       "      <td>NaN</td>\n",
       "      <td>NaN</td>\n",
       "      <td>0</td>\n",
       "      <td>12</td>\n",
       "      <td>2008</td>\n",
       "      <td>WD</td>\n",
       "      <td>Normal</td>\n",
       "      <td>250000</td>\n",
       "    </tr>\n",
       "  </tbody>\n",
       "</table>\n",
       "<p>5 rows × 81 columns</p>\n",
       "</div>"
      ],
      "text/plain": [
       "   Id  MSSubClass MSZoning  LotFrontage  LotArea Street Alley LotShape  \\\n",
       "0   1          60       RL         65.0     8450   Pave   NaN      Reg   \n",
       "1   2          20       RL         80.0     9600   Pave   NaN      Reg   \n",
       "2   3          60       RL         68.0    11250   Pave   NaN      IR1   \n",
       "3   4          70       RL         60.0     9550   Pave   NaN      IR1   \n",
       "4   5          60       RL         84.0    14260   Pave   NaN      IR1   \n",
       "\n",
       "  LandContour Utilities    ...     PoolArea PoolQC Fence MiscFeature MiscVal  \\\n",
       "0         Lvl    AllPub    ...            0    NaN   NaN         NaN       0   \n",
       "1         Lvl    AllPub    ...            0    NaN   NaN         NaN       0   \n",
       "2         Lvl    AllPub    ...            0    NaN   NaN         NaN       0   \n",
       "3         Lvl    AllPub    ...            0    NaN   NaN         NaN       0   \n",
       "4         Lvl    AllPub    ...            0    NaN   NaN         NaN       0   \n",
       "\n",
       "  MoSold YrSold  SaleType  SaleCondition  SalePrice  \n",
       "0      2   2008        WD         Normal     208500  \n",
       "1      5   2007        WD         Normal     181500  \n",
       "2      9   2008        WD         Normal     223500  \n",
       "3      2   2006        WD        Abnorml     140000  \n",
       "4     12   2008        WD         Normal     250000  \n",
       "\n",
       "[5 rows x 81 columns]"
      ]
     },
     "execution_count": 3,
     "metadata": {},
     "output_type": "execute_result"
    }
   ],
   "source": [
    "import pandas as pd\n",
    "df = pd.read_csv('../Data/train.csv')\n",
    "df.head()"
   ]
  },
  {
   "cell_type": "markdown",
   "metadata": {},
   "source": [
    "## III. Domain Knowledge"
   ]
  },
  {
   "cell_type": "markdown",
   "metadata": {},
   "source": [
    "#### What experience do you already have arount this area?  Does it relate or help inform the project in any way?\n",
    "My experiecne in the real estate domain is limited.  Although I have never purchased or sold property myself, I have been involved with several friends/family who have have.  I have also moved several times from city to city.  Although I am no expert at real estate, my expereiences and interest in the housing market have given me a good understanding of the features and characteristics of a home and how they may impact the price of a house.  This expereince will help inform my data dictionary, which will be quite large given that I have 80 variables in my dataset."
   ]
  },
  {
   "cell_type": "markdown",
   "metadata": {},
   "source": [
    "#### What other research efforts exist?\n",
    "The problem statement for this project is common  Thus, there are several other research efforts that exist especially in the data science community.   This question has become a challenge on "
   ]
  },
  {
   "cell_type": "markdown",
   "metadata": {},
   "source": [
    "## IV. Project Concerns"
   ]
  },
  {
   "cell_type": "markdown",
   "metadata": {},
   "source": [
    "#### What questions do you have about your project?  What are you not sure you quite yet understand?\n",
    "The housing price data ranges from early-2006 to mid-2010 and I think it is important to note that the mortgage crisis happened during this period and contributed to the economic recession of 2008.  I think house sales in Ames, Iowa were no exception and were influenced by the mortgage crisis during this time.  How do I use time series methods to account for this?  Another question I have is how to handle missing data?  I have a lot of variables in my dataset so I am not quite sure how to handle all of the missing values given that I have a small dataset?"
   ]
  },
  {
   "cell_type": "markdown",
   "metadata": {},
   "source": [
    "#### What are the assumptions and caveats to the problem?  What data do you not have access to, but wish you did?  What is already implied about the observations in your dataset?\n",
    "One caveat to the problem is that our dataset is small.  We have less than 3000 observations of which we have to split into test and train data.  Therefore, we must watch out for overfitting in our model.  We must also be aware of overfitting since we have a lot of variables."
   ]
  },
  {
   "cell_type": "markdown",
   "metadata": {},
   "source": [
    "## V. Outcomes"
   ]
  },
  {
   "cell_type": "markdown",
   "metadata": {},
   "source": [
    "#### What do you expect the output to look like? What does your target audience expect the output to look like?\n",
    "I am expecting the output of the regression model to be a continuous value, which represents the price of a home.  My target audience would be individuals interested in investing and selling property in Ames, Iowa."
   ]
  },
  {
   "cell_type": "markdown",
   "metadata": {},
   "source": [
    "#### What gain do you expect from your most important feature on its own?\n",
    "I would expect that the most important feature will have the largest coefficient since regression coefficients represent the mean change in the response variable for one unit of change in the predictor variable while holding other predictors in the model constant. This statistical control that regression provides is important because it isolates the role of one variable from all of the others in the model."
   ]
  },
  {
   "cell_type": "markdown",
   "metadata": {},
   "source": [
    "#### How complicated does your model have to be?\n",
    "This will depend on which variables I determine are statistically significant.  For every statistically significant predictor, there willl be an associated coefficient and p-value.  Since there are a 80 potential predictors in the dataset....I imagine this model could be quite complex."
   ]
  },
  {
   "cell_type": "markdown",
   "metadata": {},
   "source": [
    "#### How successful does your project have to be in order to be considered a \"success\"?\n",
    "I can evaluate my model on the Root-Mean-Squared-Error (RMSE) between the logarithm of the predicted value and the logarithm of the observed sales price. Taking logs means that errors in predicting expensive houses and cheap houses will affect the result equally.  In other words, this means that the lower the RMSE value, greater is the accuracy of my prediction model."
   ]
  },
  {
   "cell_type": "code",
   "execution_count": null,
   "metadata": {
    "collapsed": true
   },
   "outputs": [],
   "source": [
    "\n",
    "### Domain knowledge\n",
    "* What experience do you already have around this area?\n",
    "* Does it relate or help inform the project in any way?\n",
    "* What other research efforts exist?\n",
    "    * Use a quick Google search to see what approaches others have made, or talk with your colleagues if it is work related about previous attempts at similar problems.\n",
    "    * This could even just be something like \"the marketing team put together a forecast in excel that doesn't do well.\"\n",
    "    * Include a benchmark, how other models have performed, even if you are unsure what the metric means.\n",
    "\n",
    "### Project Concerns\n",
    "* What questions do you have about your project? What are you not sure you quite yet understand? (The more honest you are about this, the easier your instructors can help).\n",
    "* What are the assumptions and caveats to the problem?\n",
    "    * What data do you not have access to but wish you had?\n",
    "    * What is already implied about the observations in your data set? For example, if your primary data set is twitter data, it may not be representative of the whole sample (say, predicting who would win an election)\n",
    "* What are the risks to the project?\n",
    "    * What's the cost of your model being wrong? (What's the benefit of your model being right?)\n",
    "    * Is any of the data incorrect? Could it be incorrect?\n",
    "\n",
    "### Outcomes\n",
    "* What do you expect the output to look like?\n",
    "* What does your target audience expect the output to look like?\n",
    "* What gain do you expect from your most important feature on its own?\n",
    "* How complicated does your model have to be?\n",
    "* How successful does your project have to be in order to be considered a \"success\"?\n",
    "* What will you do if the project is a bust (this happens! but it shouldn't here)?\n",
    "\n",
    "\n"
   ]
  }
 ],
 "metadata": {
  "anaconda-cloud": {},
  "kernelspec": {
   "display_name": "Python [default]",
   "language": "python",
   "name": "python2"
  },
  "language_info": {
   "codemirror_mode": {
    "name": "ipython",
    "version": 2
   },
   "file_extension": ".py",
   "mimetype": "text/x-python",
   "name": "python",
   "nbconvert_exporter": "python",
   "pygments_lexer": "ipython2",
   "version": "2.7.12"
  }
 },
 "nbformat": 4,
 "nbformat_minor": 1
}
